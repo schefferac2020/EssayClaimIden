{
 "cells": [
  {
   "cell_type": "code",
   "execution_count": 68,
   "id": "548595f8",
   "metadata": {},
   "outputs": [],
   "source": [
    "#Benchmark performance of NER tagging method using HW2 solution code\n",
    "\n",
    "from ast import literal_eval\n",
    "from tqdm import tqdm\n",
    "\n",
    "from hmm import *"
   ]
  },
  {
   "cell_type": "code",
   "execution_count": 25,
   "id": "f5155b65",
   "metadata": {},
   "outputs": [
    {
     "data": {
      "text/html": [
       "<div>\n",
       "<style scoped>\n",
       "    .dataframe tbody tr th:only-of-type {\n",
       "        vertical-align: middle;\n",
       "    }\n",
       "\n",
       "    .dataframe tbody tr th {\n",
       "        vertical-align: top;\n",
       "    }\n",
       "\n",
       "    .dataframe thead th {\n",
       "        text-align: right;\n",
       "    }\n",
       "</style>\n",
       "<table border=\"1\" class=\"dataframe\">\n",
       "  <thead>\n",
       "    <tr style=\"text-align: right;\">\n",
       "      <th></th>\n",
       "      <th>id</th>\n",
       "      <th>text</th>\n",
       "      <th>entities</th>\n",
       "    </tr>\n",
       "  </thead>\n",
       "  <tbody>\n",
       "    <tr>\n",
       "      <th>0</th>\n",
       "      <td>3321A3E87AD3</td>\n",
       "      <td>I do agree that some students would benefit fr...</td>\n",
       "      <td>[B-Lead, I-Lead, I-Lead, I-Lead, I-Lead, I-Lea...</td>\n",
       "    </tr>\n",
       "    <tr>\n",
       "      <th>1</th>\n",
       "      <td>DFEAEC512BAB</td>\n",
       "      <td>Should students design a summer project for sc...</td>\n",
       "      <td>[O, O, O, O, O, O, O, O, B-Position, I-Positio...</td>\n",
       "    </tr>\n",
       "    <tr>\n",
       "      <th>2</th>\n",
       "      <td>2E4AFCD3987F</td>\n",
       "      <td>Dear State Senator\\n\\n,\\n\\nIn the ruels of vot...</td>\n",
       "      <td>[O, O, O, O, B-Position, I-Position, I-Positio...</td>\n",
       "    </tr>\n",
       "    <tr>\n",
       "      <th>3</th>\n",
       "      <td>EB6C2AF20BFE</td>\n",
       "      <td>People sometimes have a different opinion than...</td>\n",
       "      <td>[B-Lead, I-Lead, I-Lead, I-Lead, I-Lead, I-Lea...</td>\n",
       "    </tr>\n",
       "    <tr>\n",
       "      <th>4</th>\n",
       "      <td>A91A08E523D5</td>\n",
       "      <td>Dear senator,\\n\\nAs you know the Electoral Col...</td>\n",
       "      <td>[O, O, B-Lead, I-Lead, I-Lead, I-Lead, I-Lead,...</td>\n",
       "    </tr>\n",
       "    <tr>\n",
       "      <th>...</th>\n",
       "      <td>...</td>\n",
       "      <td>...</td>\n",
       "      <td>...</td>\n",
       "    </tr>\n",
       "    <tr>\n",
       "      <th>15589</th>\n",
       "      <td>1C899F124FEB</td>\n",
       "      <td>While some students may think it's a beneficia...</td>\n",
       "      <td>[B-Lead, I-Lead, I-Lead, I-Lead, I-Lead, I-Lea...</td>\n",
       "    </tr>\n",
       "    <tr>\n",
       "      <th>15590</th>\n",
       "      <td>4453444AF383</td>\n",
       "      <td>There has been a strong arguement going on wea...</td>\n",
       "      <td>[B-Lead, I-Lead, I-Lead, I-Lead, I-Lead, I-Lea...</td>\n",
       "    </tr>\n",
       "    <tr>\n",
       "      <th>15591</th>\n",
       "      <td>EF0D75BF48DA</td>\n",
       "      <td>I favor in to changing election by popular vot...</td>\n",
       "      <td>[B-Position, I-Position, I-Position, I-Positio...</td>\n",
       "    </tr>\n",
       "    <tr>\n",
       "      <th>15592</th>\n",
       "      <td>8FFDA5B9D359</td>\n",
       "      <td>Do you think students would benefit from being...</td>\n",
       "      <td>[B-Position, I-Position, I-Position, I-Positio...</td>\n",
       "    </tr>\n",
       "    <tr>\n",
       "      <th>15593</th>\n",
       "      <td>ACAB1FCA0A30</td>\n",
       "      <td>I would like to change the election for the pr...</td>\n",
       "      <td>[B-Position, I-Position, I-Position, I-Positio...</td>\n",
       "    </tr>\n",
       "  </tbody>\n",
       "</table>\n",
       "<p>15594 rows × 3 columns</p>\n",
       "</div>"
      ],
      "text/plain": [
       "                 id                                               text  \\\n",
       "0      3321A3E87AD3  I do agree that some students would benefit fr...   \n",
       "1      DFEAEC512BAB  Should students design a summer project for sc...   \n",
       "2      2E4AFCD3987F  Dear State Senator\\n\\n,\\n\\nIn the ruels of vot...   \n",
       "3      EB6C2AF20BFE  People sometimes have a different opinion than...   \n",
       "4      A91A08E523D5  Dear senator,\\n\\nAs you know the Electoral Col...   \n",
       "...             ...                                                ...   \n",
       "15589  1C899F124FEB  While some students may think it's a beneficia...   \n",
       "15590  4453444AF383  There has been a strong arguement going on wea...   \n",
       "15591  EF0D75BF48DA  I favor in to changing election by popular vot...   \n",
       "15592  8FFDA5B9D359  Do you think students would benefit from being...   \n",
       "15593  ACAB1FCA0A30  I would like to change the election for the pr...   \n",
       "\n",
       "                                                entities  \n",
       "0      [B-Lead, I-Lead, I-Lead, I-Lead, I-Lead, I-Lea...  \n",
       "1      [O, O, O, O, O, O, O, O, B-Position, I-Positio...  \n",
       "2      [O, O, O, O, B-Position, I-Position, I-Positio...  \n",
       "3      [B-Lead, I-Lead, I-Lead, I-Lead, I-Lead, I-Lea...  \n",
       "4      [O, O, B-Lead, I-Lead, I-Lead, I-Lead, I-Lead,...  \n",
       "...                                                  ...  \n",
       "15589  [B-Lead, I-Lead, I-Lead, I-Lead, I-Lead, I-Lea...  \n",
       "15590  [B-Lead, I-Lead, I-Lead, I-Lead, I-Lead, I-Lea...  \n",
       "15591  [B-Position, I-Position, I-Position, I-Positio...  \n",
       "15592  [B-Position, I-Position, I-Position, I-Positio...  \n",
       "15593  [B-Position, I-Position, I-Position, I-Positio...  \n",
       "\n",
       "[15594 rows x 3 columns]"
      ]
     },
     "execution_count": 25,
     "metadata": {},
     "output_type": "execute_result"
    }
   ],
   "source": [
    "train_text_df = pd.read_csv('./train_NER.csv')\n",
    "train_text_df.entities = train_text_df.entities.apply(lambda x: literal_eval(x) )\n",
    "train_text_df"
   ]
  },
  {
   "cell_type": "code",
   "execution_count": 53,
   "id": "6ccf2957",
   "metadata": {},
   "outputs": [
    {
     "name": "stdout",
     "output_type": "stream",
     "text": [
      "15594\n",
      "0, 1000, 2000, 3000, 4000, 5000, 6000, 7000, 8000, 9000, 10000, 11000, 12000, 13000, 14000, 15000, "
     ]
    }
   ],
   "source": [
    "#Now, we'll just put this is the same format as the HW2 notebook \n",
    "'''\n",
    "    [\n",
    "    [[word1, tag1], [word2, tag2], [word3, tag3]],                #for document 1\n",
    "    [[word1, tag1], [word2, tag2]],                               #for document 2  \n",
    "    [[word1, tag1], [word2, tag2], [word3, tag3], [word4, tag4]]  #for document 3\n",
    "    ]\n",
    "'''\n",
    "\n",
    "\n",
    "\n",
    "\n",
    "formatted_data = []\n",
    "\n",
    "print(len(train_text_df.index))\n",
    "for index, row in train_text_df.iterrows():\n",
    "    if(index % 1000 == 0):\n",
    "        print(index, end =\", \")\n",
    "    \n",
    "    text = row['text']\n",
    "    tags = row['entities']\n",
    "    \n",
    "\n",
    "    words = row['text'].split()\n",
    "    \n",
    "    document_data = []\n",
    "    for word, tag, in zip(words, tags):\n",
    "        document_data.append([word, tag])\n",
    "        \n",
    "    formatted_data.append(document_data)\n"
   ]
  },
  {
   "cell_type": "code",
   "execution_count": 56,
   "id": "70298ffd",
   "metadata": {},
   "outputs": [
    {
     "name": "stdout",
     "output_type": "stream",
     "text": [
      "15594\n",
      "[[['I', 'B-Lead'], ['do', 'I-Lead'], ['agree', 'I-Lead'], ['that', 'I-Lead'], ['some', 'I-Lead'], ['students', 'I-Lead'], ['would', 'I-Lead'], ['benefit', 'I-Lead'], ['from', 'I-Lead'], ['online', 'I-Lead'], ['classes,', 'I-Lead'], ['but', 'I-Lead'], ['not', 'I-Lead'], ['all', 'I-Lead'], ['of', 'I-Lead'], ['them', 'I-Lead'], ['would.', 'I-Lead'], [\"There's\", 'I-Lead'], ['people', 'I-Lead'], ['that', 'I-Lead'], ['learn', 'I-Lead'], ['better', 'I-Lead'], ['if', 'I-Lead'], ['they', 'I-Lead'], ['are', 'I-Lead'], ['in', 'I-Lead'], ['a', 'I-Lead'], ['classroom', 'I-Lead'], ['with', 'I-Lead'], ['a', 'I-Lead'], ['teacher', 'I-Lead'], ['standing', 'I-Lead'], ['in', 'I-Lead'], ['front', 'I-Lead'], ['of', 'I-Lead'], ['them.', 'I-Lead'], [\"There's\", 'I-Lead'], ['also', 'I-Lead'], ['people', 'I-Lead'], ['who', 'I-Lead'], ['struggle', 'I-Lead'], ['to', 'I-Lead'], ['listen', 'I-Lead'], ['correctly', 'I-Lead'], ['in', 'I-Lead'], ['the', 'I-Lead'], ['classroom.', 'I-Lead'], ['Those', 'I-Lead'], ['are', 'I-Lead'], ['the', 'I-Lead'], ['people', 'I-Lead'], ['that', 'I-Lead'], ['would', 'I-Lead'], ['heavily', 'I-Lead'], ['benefit', 'I-Lead'], ['from', 'I-Lead'], ['an', 'I-Lead'], ['online', 'I-Lead'], ['course.', 'I-Lead'], ['All', 'I-Lead'], ['of', 'I-Lead'], ['their', 'I-Lead'], ['distractions', 'I-Lead'], ['are', 'I-Lead'], ['eliminated', 'I-Lead'], ['and', 'I-Lead'], ['they', 'I-Lead'], ['can', 'I-Lead'], ['turn', 'I-Lead'], ['the', 'I-Lead'], ['volume', 'I-Lead'], ['up', 'I-Lead'], ['on', 'I-Lead'], ['their', 'I-Lead'], ['laptop', 'I-Lead'], ['if', 'I-Lead'], ['they', 'I-Lead'], ['struggle', 'I-Lead'], ['to', 'I-Lead'], ['listen.', 'I-Lead'], ['There', 'B-Position'], ['are', 'I-Position'], ['benefits', 'I-Position'], ['from', 'I-Position'], ['both', 'I-Position'], ['being', 'I-Position'], ['in', 'I-Position'], ['a', 'I-Position'], ['classroom', 'I-Position'], ['and', 'I-Position'], ['being', 'I-Position'], ['in', 'I-Position'], ['an', 'I-Position'], ['online', 'I-Position'], ['classroom.', 'I-Position'], ['Since', 'B-Claim'], ['I', 'I-Claim'], ['agree', 'I-Claim'], ['that', 'I-Claim'], ['some', 'I-Claim'], ['would', 'I-Claim'], ['benefit,', 'I-Claim'], [\"let's\", 'I-Claim'], ['talk', 'I-Claim'], ['about', 'I-Claim'], ['why', 'I-Claim'], [\"it's\", 'I-Claim'], ['only', 'I-Claim'], ['\"some\".', 'I-Claim'], ['If', 'B-Evidence'], ['you', 'I-Evidence'], ['are', 'I-Evidence'], ['like', 'I-Evidence'], ['me,', 'I-Evidence'], ['you', 'I-Evidence'], ['would', 'I-Evidence'], ['rather', 'I-Evidence'], ['be', 'I-Evidence'], ['in', 'I-Evidence'], ['a', 'I-Evidence'], ['classroom', 'I-Evidence'], ['with', 'I-Evidence'], ['other', 'I-Evidence'], ['students', 'I-Evidence'], ['who', 'I-Evidence'], ['are', 'I-Evidence'], ['learning', 'I-Evidence'], ['the', 'I-Evidence'], ['same', 'I-Evidence'], ['things', 'I-Evidence'], ['as', 'I-Evidence'], ['you.', 'I-Evidence'], ['Therefore,', 'I-Evidence'], ['you', 'I-Evidence'], ['can', 'I-Evidence'], ['ask', 'I-Evidence'], ['them', 'I-Evidence'], ['for', 'I-Evidence'], ['help', 'I-Evidence'], ['if', 'I-Evidence'], ['you', 'I-Evidence'], ['missed', 'I-Evidence'], ['something', 'I-Evidence'], ['or', 'I-Evidence'], ['just', 'I-Evidence'], ['have', 'I-Evidence'], ['a', 'I-Evidence'], ['conversation', 'I-Evidence'], ['on', 'I-Evidence'], ['the', 'I-Evidence'], ['topic.', 'I-Evidence'], ['Just', 'I-Evidence'], ['talking', 'I-Evidence'], ['to', 'I-Evidence'], ['others', 'I-Evidence'], ['about', 'I-Evidence'], ['what', 'I-Evidence'], [\"you're\", 'I-Evidence'], ['learning', 'I-Evidence'], ['will', 'I-Evidence'], ['grow', 'I-Evidence'], ['your', 'I-Evidence'], ['knowledge', 'I-Evidence'], ['on', 'I-Evidence'], ['the', 'I-Evidence'], ['subject', 'I-Evidence'], ['and', 'I-Evidence'], ['you', 'I-Evidence'], ['might', 'I-Evidence'], ['even', 'I-Evidence'], ['teach', 'I-Evidence'], ['them', 'I-Evidence'], ['a', 'I-Evidence'], ['thing', 'I-Evidence'], ['or', 'I-Evidence'], ['two.', 'I-Evidence'], ['This', 'I-Evidence'], ['will', 'I-Evidence'], ['also', 'I-Evidence'], ['give', 'I-Evidence'], ['you', 'I-Evidence'], ['a', 'I-Evidence'], ['chance', 'I-Evidence'], ['to', 'I-Evidence'], ['talk', 'I-Evidence'], ['with', 'I-Evidence'], ['the', 'I-Evidence'], ['beautiful', 'I-Evidence'], ['girls', 'I-Evidence'], ['in', 'I-Evidence'], ['your', 'I-Evidence'], ['class!', 'I-Evidence'], ['So,', 'B-Claim'], ['why', 'I-Claim'], ['are', 'I-Claim'], ['they', 'I-Claim'], ['both', 'I-Claim'], ['beneficial?', 'I-Claim'], [\"I've\", 'I-Claim'], ['never', 'I-Claim'], ['taken', 'I-Claim'], ['a', 'I-Claim'], ['class', 'I-Claim'], ['online,', 'I-Claim'], ['but', 'I-Claim'], ['it', 'I-Claim'], ['must', 'I-Claim'], ['be', 'I-Claim'], ['nice', 'I-Claim'], ['to', 'I-Claim'], ['bring', 'I-Claim'], ['the', 'I-Claim'], ['class', 'I-Claim'], ['wherever', 'I-Claim'], ['you', 'I-Claim'], ['want.', 'I-Claim'], ['So,', 'I-Claim'], ['if', 'I-Claim'], [\"you're\", 'I-Claim'], ['an', 'I-Claim'], ['on-the-go', 'I-Claim'], ['student,', 'I-Claim'], ['I', 'I-Claim'], ['would', 'I-Claim'], ['look', 'I-Claim'], ['into', 'I-Claim'], ['online', 'I-Claim'], ['courses.', 'I-Claim'], ['Anxiety', 'B-Evidence'], ['is', 'I-Evidence'], ['a', 'I-Evidence'], ['big', 'I-Evidence'], ['thing', 'I-Evidence'], ['these', 'I-Evidence'], ['days', 'I-Evidence'], ['and', 'I-Evidence'], [\"I've\", 'I-Evidence'], ['heard', 'I-Evidence'], ['of', 'I-Evidence'], ['many', 'I-Evidence'], ['people', 'I-Evidence'], ['with', 'I-Evidence'], ['\"classroom', 'I-Evidence'], ['anxiety\".', 'I-Evidence'], ['They', 'I-Evidence'], ['are', 'I-Evidence'], ['actually', 'I-Evidence'], ['afraid', 'I-Evidence'], ['to', 'I-Evidence'], ['go', 'I-Evidence'], ['to', 'I-Evidence'], ['school', 'I-Evidence'], ['and', 'I-Evidence'], ['I', 'I-Evidence'], ['cannot', 'I-Evidence'], ['think', 'I-Evidence'], ['of', 'I-Evidence'], ['a', 'I-Evidence'], ['better', 'I-Evidence'], ['cure', 'I-Evidence'], ['for', 'I-Evidence'], ['that', 'I-Evidence'], ['than', 'I-Evidence'], ['online', 'I-Evidence'], ['classes.', 'I-Evidence'], ['On', 'I-Evidence'], ['the', 'I-Evidence'], ['other', 'I-Evidence'], ['hand,', 'I-Evidence'], ['people', 'I-Evidence'], ['in', 'I-Evidence'], ['the', 'I-Evidence'], ['classroom', 'I-Evidence'], ['can', 'I-Evidence'], ['speak', 'I-Evidence'], ['on', 'I-Evidence'], ['the', 'I-Evidence'], ['subject', 'I-Evidence'], ['and', 'I-Evidence'], ['teach', 'I-Evidence'], ['each', 'I-Evidence'], ['other', 'I-Evidence'], ['new', 'I-Evidence'], ['things', 'I-Evidence'], ['as', 'I-Evidence'], ['I', 'I-Evidence'], ['said', 'I-Evidence'], ['before.', 'I-Evidence'], ['You', 'I-Evidence'], ['have', 'I-Evidence'], ['the', 'I-Evidence'], ['luxury', 'I-Evidence'], ['of', 'I-Evidence'], ['asking', 'I-Evidence'], ['the', 'I-Evidence'], ['teacher', 'I-Evidence'], ['for', 'I-Evidence'], ['assistance.', 'I-Evidence'], ['Being', 'I-Evidence'], ['in', 'I-Evidence'], ['a', 'I-Evidence'], ['classroom', 'I-Evidence'], ['also', 'I-Evidence'], ['improves', 'I-Evidence'], ['your', 'I-Evidence'], ['people', 'I-Evidence'], ['skills.', 'I-Evidence'], ['We', 'B-Counterclaim'], ['all', 'I-Counterclaim'], ['know', 'I-Counterclaim'], ['there', 'I-Counterclaim'], ['is', 'I-Counterclaim'], ['good', 'I-Counterclaim'], ['and', 'I-Counterclaim'], ['bad', 'I-Counterclaim'], ['that', 'I-Counterclaim'], ['come', 'I-Counterclaim'], ['from', 'I-Counterclaim'], ['online', 'I-Counterclaim'], ['courses.', 'I-Counterclaim'], ['These', 'I-Counterclaim'], ['are', 'I-Counterclaim'], ['some', 'I-Counterclaim'], ['reasons', 'I-Counterclaim'], ['why', 'I-Counterclaim'], ['people', 'I-Counterclaim'], ['think', 'I-Counterclaim'], ['there', 'I-Counterclaim'], ['is', 'I-Counterclaim'], ['no', 'I-Counterclaim'], ['good', 'I-Counterclaim'], ['coming', 'I-Counterclaim'], ['from', 'I-Counterclaim'], ['it.', 'I-Counterclaim'], ['You', 'B-Evidence'], ['may', 'I-Evidence'], ['not', 'I-Evidence'], ['get', 'I-Evidence'], ['the', 'I-Evidence'], ['full', 'I-Evidence'], ['learning', 'I-Evidence'], ['experience', 'I-Evidence'], ['from', 'I-Evidence'], ['looking', 'I-Evidence'], ['at', 'I-Evidence'], ['your', 'I-Evidence'], ['laptop', 'I-Evidence'], ['rather', 'I-Evidence'], ['than', 'I-Evidence'], ['having', 'I-Evidence'], ['someone', 'I-Evidence'], ['with', 'I-Evidence'], ['all', 'I-Evidence'], ['the', 'I-Evidence'], ['answers', 'I-Evidence'], ['speaking', 'I-Evidence'], ['to', 'I-Evidence'], ['you', 'I-Evidence'], ['and', 'I-Evidence'], ['making', 'I-Evidence'], ['you', 'I-Evidence'], ['write', 'I-Evidence'], ['them', 'I-Evidence'], ['down.', 'I-Evidence'], ['You', 'I-Evidence'], ['have', 'I-Evidence'], ['no', 'I-Evidence'], ['social', 'I-Evidence'], ['life', 'I-Evidence'], ['while', 'I-Evidence'], [\"you're\", 'I-Evidence'], ['learning', 'I-Evidence'], ['and', 'I-Evidence'], ['you', 'I-Evidence'], [\"can't\", 'I-Evidence'], ['speak', 'I-Evidence'], ['with', 'I-Evidence'], ['classmates', 'I-Evidence'], ['to', 'I-Evidence'], ['learn', 'I-Evidence'], ['more', 'I-Evidence'], ['or', 'I-Evidence'], ['get', 'I-Evidence'], ['answers', 'I-Evidence'], ['for', 'I-Evidence'], ['a', 'I-Evidence'], ['homework.', 'I-Evidence'], ['If', 'I-Evidence'], [\"you're\", 'I-Evidence'], ['online', 'I-Evidence'], ['learning,', 'I-Evidence'], ['everything', 'I-Evidence'], ['is', 'I-Evidence'], ['on', 'I-Evidence'], ['you!', 'I-Evidence'], ['There', 'I-Evidence'], ['is', 'I-Evidence'], ['little', 'I-Evidence'], ['help', 'I-Evidence'], ['that', 'I-Evidence'], ['comes', 'I-Evidence'], ['with', 'I-Evidence'], ['online', 'I-Evidence'], ['classes', 'I-Evidence'], ['rather', 'I-Evidence'], ['than', 'I-Evidence'], ['a', 'I-Evidence'], ['real', 'I-Evidence'], ['classroom.', 'I-Evidence'], ['All', 'B-Concluding Statement'], ['in', 'I-Concluding Statement'], ['all,', 'I-Concluding Statement'], ['I', 'I-Concluding Statement'], ['agree', 'I-Concluding Statement'], ['that', 'I-Concluding Statement'], ['some', 'I-Concluding Statement'], ['students', 'I-Concluding Statement'], ['would', 'I-Concluding Statement'], ['benefit', 'I-Concluding Statement'], ['from', 'I-Concluding Statement'], ['online', 'I-Concluding Statement'], ['classes.', 'I-Concluding Statement'], ['Those', 'I-Concluding Statement'], ['who', 'I-Concluding Statement'], ['are', 'I-Concluding Statement'], ['very', 'I-Concluding Statement'], ['independent', 'I-Concluding Statement'], ['and', 'I-Concluding Statement'], ['portable', 'I-Concluding Statement'], ['would', 'I-Concluding Statement'], ['love', 'I-Concluding Statement'], ['online', 'I-Concluding Statement'], ['classes.', 'I-Concluding Statement'], ['I', 'I-Concluding Statement'], ['feel', 'I-Concluding Statement'], ['that', 'I-Concluding Statement'], ['there', 'I-Concluding Statement'], ['are', 'I-Concluding Statement'], ['more', 'I-Concluding Statement'], ['students', 'I-Concluding Statement'], ['who', 'I-Concluding Statement'], ['would', 'I-Concluding Statement'], ['rather', 'I-Concluding Statement'], ['stay', 'I-Concluding Statement'], ['in', 'I-Concluding Statement'], ['the', 'I-Concluding Statement'], ['classroom', 'I-Concluding Statement'], ['and', 'I-Concluding Statement'], ['converse', 'I-Concluding Statement'], ['to', 'I-Concluding Statement'], ['learn', 'I-Concluding Statement'], ['more.', 'I-Concluding Statement'], [\"It's\", 'I-Concluding Statement'], ['all', 'I-Concluding Statement'], ['about', 'I-Concluding Statement'], ['what', 'I-Concluding Statement'], ['each', 'I-Concluding Statement'], ['person', 'I-Concluding Statement'], ['prefers.', 'I-Concluding Statement'], ['Online', 'I-Concluding Statement'], ['courses', 'I-Concluding Statement'], ['are', 'I-Concluding Statement'], ['not', 'I-Concluding Statement'], ['for', 'I-Concluding Statement'], ['everyone', 'I-Concluding Statement'], ['but', 'I-Concluding Statement'], ['are', 'I-Concluding Statement'], ['definitely', 'I-Concluding Statement'], ['a', 'I-Concluding Statement'], ['great', 'I-Concluding Statement'], ['option.', 'I-Concluding Statement']], [['Should', 'O'], ['students', 'O'], ['design', 'O'], ['a', 'O'], ['summer', 'O'], ['project', 'O'], ['for', 'O'], ['school?', 'O'], ['Yes', 'B-Position'], ['students', 'I-Position'], ['should', 'I-Position'], ['design', 'I-Position'], ['the', 'I-Position'], ['summer', 'I-Position'], ['project.', 'I-Position'], ['Plenty', 'B-Claim'], ['of', 'I-Claim'], ['students', 'I-Claim'], ['would', 'I-Claim'], ['get', 'I-Claim'], ['their', 'I-Claim'], ['projects', 'I-Claim'], ['done;', 'I-Claim'], [\"it'll\", 'I-Claim'], ['be', 'I-Claim'], ['better', 'I-Claim'], ['understanding', 'I-Claim'], ['and', 'I-Claim'], ['easier', 'I-Claim'], ['on', 'I-Claim'], ['the', 'I-Claim'], ['students.', 'I-Claim'], ['I', 'O'], ['believe', 'O'], ['the', 'O'], ['summer', 'O'], ['project', 'O'], ['should', 'O'], ['be', 'O'], ['designed', 'O'], ['by', 'O'], ['the', 'O'], ['students', 'O'], ['because', 'O'], ['the', 'B-Claim'], ['students', 'I-Claim'], ['are', 'I-Claim'], ['going', 'I-Claim'], ['to', 'I-Claim'], ['be', 'I-Claim'], ['able', 'I-Claim'], ['to', 'I-Claim'], ['choose', 'I-Claim'], ['what', 'I-Claim'], ['is', 'I-Claim'], ['going', 'I-Claim'], ['to', 'I-Claim'], ['helped', 'I-Claim'], ['them', 'I-Claim'], ['over', 'I-Claim'], ['the', 'I-Claim'], ['break', 'I-Claim'], ['with', 'I-Claim'], ['their', 'I-Claim'], ['summer', 'I-Claim'], ['projects', 'I-Claim'], ['like', 'I-Claim'], ['making', 'I-Claim'], ['it', 'I-Claim'], ['fun', 'I-Claim'], ['to', 'I-Claim'], ['do', 'I-Claim'], ['maybe', 'I-Claim'], ['with', 'I-Claim'], ['friends,', 'I-Claim'], ['family', 'I-Claim'], ['members,', 'I-Claim'], ['or', 'I-Claim'], ['anything', 'I-Claim'], ['to', 'I-Claim'], ['get', 'I-Claim'], ['your', 'I-Claim'], ['summer', 'I-Claim'], ['projects', 'I-Claim'], ['done.', 'I-Claim'], ['More', 'O'], ['students', 'O'], ['would', 'O'], ['turn', 'O'], ['in', 'O'], ['the', 'O'], ['summer', 'O'], ['projects.', 'O'], ['From', 'B-Evidence'], ['school', 'I-Evidence'], ['experiences', 'I-Evidence'], ['when', 'I-Evidence'], ['students', 'I-Evidence'], ['come', 'I-Evidence'], ['back', 'I-Evidence'], ['from', 'I-Evidence'], ['their', 'I-Evidence'], ['summer', 'I-Evidence'], ['break', 'I-Evidence'], ['plenty', 'I-Evidence'], ['of', 'I-Evidence'], ['students', 'I-Evidence'], [\"don't\", 'I-Evidence'], ['have', 'I-Evidence'], ['their', 'I-Evidence'], ['summer', 'I-Evidence'], ['projects', 'I-Evidence'], ['because', 'I-Evidence'], ['students', 'I-Evidence'], [\"don't\", 'I-Evidence'], ['like', 'I-Evidence'], ['the', 'I-Evidence'], ['books', 'I-Evidence'], ['they', 'I-Evidence'], ['have', 'I-Evidence'], ['to', 'I-Evidence'], ['choose', 'I-Evidence'], ['from.', 'I-Evidence'], ['The', 'I-Evidence'], ['project', 'I-Evidence'], ['should', 'I-Evidence'], ['be', 'I-Evidence'], ['fun', 'I-Evidence'], ['for', 'I-Evidence'], ['students', 'I-Evidence'], ['its', 'I-Evidence'], ['their', 'I-Evidence'], ['summer', 'I-Evidence'], ['break', 'I-Evidence'], ['it', 'I-Evidence'], ['should', 'I-Evidence'], ['be', 'I-Evidence'], ['fun', 'I-Evidence'], ['and', 'I-Evidence'], ['about', 'I-Evidence'], ['things', 'I-Evidence'], ['they', 'I-Evidence'], ['like', 'I-Evidence'], ['and', 'I-Evidence'], ['turn', 'I-Evidence'], ['it', 'I-Evidence'], ['an', 'I-Evidence'], ['essay', 'I-Evidence'], ['about', 'I-Evidence'], ['what', 'I-Evidence'], ['they', 'I-Evidence'], ['did', 'I-Evidence'], ['over', 'I-Evidence'], ['the', 'I-Evidence'], ['summer.', 'I-Evidence'], ['The', 'I-Evidence'], ['summer', 'I-Evidence'], ['project', 'I-Evidence'], ['should', 'I-Evidence'], ['be', 'I-Evidence'], ['designed', 'I-Evidence'], ['by', 'I-Evidence'], ['students', 'I-Evidence'], ['so', 'I-Evidence'], ['more', 'I-Evidence'], ['students', 'I-Evidence'], ['could', 'I-Evidence'], ['turn', 'I-Evidence'], ['in', 'I-Evidence'], ['their', 'I-Evidence'], ['projects', 'I-Evidence'], ['when', 'I-Evidence'], ['they', 'I-Evidence'], ['arrive', 'I-Evidence'], ['back', 'I-Evidence'], ['to', 'I-Evidence'], ['school', 'I-Evidence'], ['from', 'I-Evidence'], ['their', 'I-Evidence'], ['break.', 'I-Evidence'], ['Students', 'B-Evidence'], ['would', 'I-Evidence'], ['be', 'I-Evidence'], ['interested', 'I-Evidence'], ['in', 'I-Evidence'], ['doing', 'I-Evidence'], ['them', 'I-Evidence'], ['if', 'I-Evidence'], ['they', 'I-Evidence'], ['were', 'I-Evidence'], ['designed', 'I-Evidence'], ['by', 'I-Evidence'], ['the', 'I-Evidence'], ['students.', 'I-Evidence'], ['If', 'I-Evidence'], ['the', 'I-Evidence'], ['project', 'I-Evidence'], ['would', 'I-Evidence'], ['be', 'I-Evidence'], ['student', 'I-Evidence'], ['designed', 'I-Evidence'], ['it', 'I-Evidence'], ['would', 'I-Evidence'], ['be', 'I-Evidence'], ['much', 'I-Evidence'], ['easier', 'I-Evidence'], ['for', 'I-Evidence'], ['students', 'I-Evidence'], ['because', 'I-Evidence'], ['the', 'I-Evidence'], ['student', 'I-Evidence'], ['will', 'I-Evidence'], ['have', 'I-Evidence'], ['to', 'I-Evidence'], ['find', 'I-Evidence'], ['something', 'I-Evidence'], ['that', 'I-Evidence'], ['interested', 'I-Evidence'], ['in', 'I-Evidence'], ['and', 'I-Evidence'], ['what', 'I-Evidence'], ['they', 'I-Evidence'], ['like', 'I-Evidence'], ['and', 'I-Evidence'], ['also', 'I-Evidence'], ['it', 'I-Evidence'], ['would', 'I-Evidence'], ['make', 'I-Evidence'], ['it', 'I-Evidence'], ['much', 'I-Evidence'], ['better', 'I-Evidence'], ['because', 'I-Evidence'], ['the', 'I-Evidence'], ['students', 'I-Evidence'], ['would', 'I-Evidence'], ['have', 'I-Evidence'], ['to', 'I-Evidence'], ['talk', 'I-Evidence'], ['about', 'I-Evidence'], ['a', 'I-Evidence'], ['couple', 'I-Evidence'], ['things', 'I-Evidence'], ['that', 'I-Evidence'], ['helped', 'I-Evidence'], ['them', 'I-Evidence'], ['with', 'I-Evidence'], ['doing', 'I-Evidence'], ['the', 'I-Evidence'], ['summer', 'I-Evidence'], ['project.', 'I-Evidence'], ['Summer', 'I-Evidence'], ['projects', 'I-Evidence'], ['should', 'I-Evidence'], ['be', 'I-Evidence'], ['a', 'I-Evidence'], ['little', 'I-Evidence'], ['fun,', 'I-Evidence'], ['better', 'I-Evidence'], ['than', 'I-Evidence'], ['the', 'I-Evidence'], ['way', 'I-Evidence'], ['a', 'I-Evidence'], ['teacher', 'I-Evidence'], ['would', 'I-Evidence'], ['design', 'I-Evidence'], ['the', 'I-Evidence'], ['summer', 'I-Evidence'], ['project.', 'I-Evidence'], ['Students', 'O'], ['could', 'O'], ['make', 'O'], ['it', 'O'], ['creative', 'O'], ['and', 'O'], ['fun', 'O'], ['it', 'O'], [\"doesn't\", 'O'], ['have', 'O'], ['to', 'O'], ['be', 'O'], ['boring.', 'O'], ['Students', 'O'], ['like', 'O'], ['to', 'O'], ['do', 'O'], ['fun', 'O'], ['things', 'O'], ['with', 'O'], ['school', 'O'], ['not', 'O'], ['always', 'O'], ['just', 'O'], ['doing', 'O'], ['work', 'O'], [\"that's\", 'O'], ['boring.', 'O'], ['It', 'B-Claim'], ['would', 'I-Claim'], ['help', 'I-Claim'], ['if', 'I-Claim'], ['getting', 'I-Claim'], ['a', 'I-Claim'], ['couple', 'I-Claim'], ['students', 'I-Claim'], ['from', 'I-Claim'], ['different', 'I-Claim'], ['grade', 'I-Claim'], ['levels', 'I-Claim'], ['to', 'I-Claim'], ['talk', 'I-Claim'], ['about', 'I-Claim'], ['the', 'I-Claim'], ['summer', 'I-Claim'], ['project.', 'I-Claim'], ['The', 'B-Evidence'], ['students', 'I-Evidence'], ['would', 'I-Evidence'], ['talk', 'I-Evidence'], ['about', 'I-Evidence'], ['what', 'I-Evidence'], ['is', 'I-Evidence'], ['going', 'I-Evidence'], ['to', 'I-Evidence'], ['be', 'I-Evidence'], ['needed', 'I-Evidence'], ['for', 'I-Evidence'], ['the', 'I-Evidence'], ['project.', 'I-Evidence'], ['Students', 'I-Evidence'], ['are', 'I-Evidence'], ['going', 'I-Evidence'], ['to', 'I-Evidence'], ['agree', 'I-Evidence'], ['and', 'I-Evidence'], ['disagree', 'I-Evidence'], ['about', 'I-Evidence'], ['what', 'I-Evidence'], ['they', 'I-Evidence'], ['dont', 'I-Evidence'], ['like', 'I-Evidence'], ['about', 'I-Evidence'], ['the', 'I-Evidence'], ['way', 'I-Evidence'], ['the', 'I-Evidence'], ['teacher', 'I-Evidence'], ['designed', 'I-Evidence'], ['the', 'I-Evidence'], ['summer', 'I-Evidence'], ['projects', 'I-Evidence'], ['and', 'I-Evidence'], ['turn', 'I-Evidence'], ['it', 'I-Evidence'], ['into', 'I-Evidence'], ['somethings', 'I-Evidence'], ['students', 'I-Evidence'], ['like', 'I-Evidence'], ['and', 'I-Evidence'], ['an', 'I-Evidence'], ['easier', 'I-Evidence'], ['and', 'I-Evidence'], ['fun', 'I-Evidence'], ['way', 'I-Evidence'], ['for', 'I-Evidence'], ['students', 'I-Evidence'], ['to', 'I-Evidence'], ['do', 'I-Evidence'], ['their', 'I-Evidence'], ['summer', 'I-Evidence'], ['projects.', 'I-Evidence'], ['Getting', 'I-Evidence'], ['experiences', 'I-Evidence'], ['from', 'I-Evidence'], ['other', 'I-Evidence'], ['students', 'I-Evidence'], ['on', 'I-Evidence'], ['what', 'I-Evidence'], ['they', 'I-Evidence'], ['like', 'I-Evidence'], ['and', 'I-Evidence'], [\"don't\", 'I-Evidence'], ['about', 'I-Evidence'], ['the', 'I-Evidence'], ['teacher', 'I-Evidence'], ['way', 'I-Evidence'], ['of', 'I-Evidence'], ['designing', 'I-Evidence'], ['the', 'I-Evidence'], ['project', 'I-Evidence'], ['is', 'I-Evidence'], ['helpful,', 'I-Evidence'], ['so', 'I-Evidence'], ['the', 'I-Evidence'], ['students', 'I-Evidence'], ['know', 'I-Evidence'], ['what', 'I-Evidence'], ['they', 'I-Evidence'], ['should', 'I-Evidence'], ['be', 'I-Evidence'], ['looking', 'I-Evidence'], ['for', 'I-Evidence'], ['when', 'I-Evidence'], ['designing', 'I-Evidence'], ['the', 'I-Evidence'], ['project', 'I-Evidence'], ['for', 'I-Evidence'], ['students.', 'I-Evidence'], ['I', 'B-Concluding Statement'], ['believe', 'I-Concluding Statement'], ['that', 'I-Concluding Statement'], ['the', 'I-Concluding Statement'], ['students', 'I-Concluding Statement'], ['should', 'I-Concluding Statement'], ['design', 'I-Concluding Statement'], ['the', 'I-Concluding Statement'], ['summer', 'I-Concluding Statement'], ['project', 'I-Concluding Statement'], ['in', 'I-Concluding Statement'], ['a', 'I-Concluding Statement'], ['fun', 'I-Concluding Statement'], ['and', 'I-Concluding Statement'], ['creative', 'I-Concluding Statement'], ['way', 'I-Concluding Statement'], ['instead', 'I-Concluding Statement'], ['of', 'I-Concluding Statement'], ['reading', 'I-Concluding Statement'], ['books', 'I-Concluding Statement'], ['and', 'I-Concluding Statement'], ['telling', 'I-Concluding Statement'], ['things', 'I-Concluding Statement'], ['about', 'I-Concluding Statement'], ['the', 'I-Concluding Statement'], ['book,', 'I-Concluding Statement'], ['therefore', 'I-Concluding Statement'], ['more', 'I-Concluding Statement'], ['students', 'I-Concluding Statement'], ['can', 'I-Concluding Statement'], ['get', 'I-Concluding Statement'], ['them', 'I-Concluding Statement'], ['done.', 'I-Concluding Statement'], ['I', 'B-Counterclaim'], ['could', 'I-Counterclaim'], ['see', 'I-Counterclaim'], ['why', 'I-Counterclaim'], ['it', 'I-Counterclaim'], ['should', 'I-Counterclaim'], ['be', 'I-Counterclaim'], ['teacher', 'I-Counterclaim'], ['designed', 'I-Counterclaim'], ['because', 'I-Counterclaim'], ['teachers', 'I-Counterclaim'], ['know', 'I-Counterclaim'], ['exactly', 'I-Counterclaim'], ['what', 'I-Counterclaim'], ['their', 'I-Counterclaim'], ['looking', 'I-Counterclaim'], ['towards', 'I-Counterclaim'], ['when', 'I-Counterclaim'], ['trying', 'I-Counterclaim'], ['to', 'I-Counterclaim'], ['help', 'I-Counterclaim'], ['students', 'I-Counterclaim'], ['see', 'I-Counterclaim'], ['their', 'I-Counterclaim'], ['problems', 'I-Counterclaim'], ['in', 'I-Counterclaim'], ['certain', 'I-Counterclaim'], ['areas,', 'I-Counterclaim'], ['but', 'B-Rebuttal'], ['students', 'I-Rebuttal'], ['understand', 'I-Rebuttal'], ['things', 'I-Rebuttal'], ['more', 'I-Rebuttal'], ['when', 'I-Rebuttal'], [\"it's\", 'I-Rebuttal'], ['coming', 'I-Rebuttal'], ['from', 'I-Rebuttal'], ['experience.', 'I-Rebuttal']], [['Dear', 'O'], ['State', 'O'], ['Senator', 'O'], [',', 'O'], ['In', 'B-Position'], ['the', 'I-Position'], ['ruels', 'I-Position'], ['of', 'I-Position'], ['voteing', 'I-Position'], ['there', 'I-Position'], ['should', 'I-Position'], ['be', 'I-Position'], ['change.', 'I-Position'], ['When', 'B-Claim'], ['voting', 'I-Claim'], [\"citesens's\", 'I-Claim'], ['votes', 'I-Claim'], ['should', 'I-Claim'], ['matter,', 'I-Claim'], ['but', 'I-Claim'], ['they', 'I-Claim'], ['dont.', 'I-Claim'], ['Whats', 'B-Evidence'], ['the', 'I-Evidence'], ['point', 'I-Evidence'], ['of', 'I-Evidence'], ['even', 'I-Evidence'], ['voting', 'I-Evidence'], ['when', 'I-Evidence'], ['your', 'I-Evidence'], ['vote', 'I-Evidence'], ['doesnt', 'I-Evidence'], ['help', 'I-Evidence'], ['who', 'I-Evidence'], ['you', 'I-Evidence'], ['want', 'I-Evidence'], ['to', 'I-Evidence'], ['be', 'I-Evidence'], ['president', 'I-Evidence'], ['win.', 'I-Evidence'], ['Why', 'I-Evidence'], ['should', 'I-Evidence'], ['people', 'I-Evidence'], ['in', 'I-Evidence'], ['office', 'I-Evidence'], ['get', 'I-Evidence'], ['to', 'I-Evidence'], ['have', 'I-Evidence'], ['the', 'I-Evidence'], ['say?', 'I-Evidence'], ['Its', 'I-Evidence'], ['not', 'I-Evidence'], ['fair', 'I-Evidence'], ['for', 'I-Evidence'], ['those', 'I-Evidence'], ['pople', 'I-Evidence'], ['to', 'I-Evidence'], ['chose', 'I-Evidence'], ['everyones', 'I-Evidence'], ['prersednt', 'I-Evidence'], ['.', 'I-Evidence'], ['Everyone', 'I-Evidence'], ['in', 'I-Evidence'], ['the', 'I-Evidence'], ['United', 'I-Evidence'], ['Dtates', 'I-Evidence'], ['should', 'I-Evidence'], ['have', 'I-Evidence'], ['the', 'I-Evidence'], ['say', 'I-Evidence'], ['of', 'I-Evidence'], ['who', 'I-Evidence'], ['runs', 'I-Evidence'], ['them', 'I-Evidence'], ['for', 'I-Evidence'], ['four', 'I-Evidence'], ['years.', 'I-Evidence'], ['No', 'I-Evidence'], ['one', 'I-Evidence'], ['wants', 'I-Evidence'], ['someone', 'I-Evidence'], ['who', 'I-Evidence'], ['they', 'I-Evidence'], [\"don't\", 'I-Evidence'], ['even', 'I-Evidence'], ['like', 'I-Evidence'], ['calling', 'I-Evidence'], ['the', 'I-Evidence'], ['shots.', 'I-Evidence'], ['Also', 'I-Evidence'], ['when', 'I-Evidence'], ['we', 'I-Evidence'], [\"don't\", 'I-Evidence'], ['get', 'I-Evidence'], ['to', 'I-Evidence'], ['choose', 'I-Evidence'], ['the', 'I-Evidence'], ['the', 'I-Evidence'], ['people', 'I-Evidence'], ['that', 'I-Evidence'], ['do', 'I-Evidence'], ['choose', 'I-Evidence'], ['make', 'I-Evidence'], ['it', 'I-Evidence'], ['go', 'I-Evidence'], ['in', 'I-Evidence'], ['there', 'I-Evidence'], ['favor', 'I-Evidence'], ['and', 'I-Evidence'], ['not', 'I-Evidence'], ['ours.', 'I-Evidence'], ['This', 'B-Claim'], ['country', 'I-Claim'], ['is', 'I-Claim'], ['all', 'I-Claim'], ['of', 'I-Claim'], ['ours', 'I-Claim'], ['and', 'I-Claim'], ['sould', 'I-Claim'], ['not', 'I-Claim'], ['have', 'I-Claim'], ['all', 'I-Claim'], ['the', 'I-Claim'], ['disions', 'I-Claim'], ['made', 'I-Claim'], ['by', 'I-Claim'], ['only', 'I-Claim'], ['a', 'I-Claim'], ['few', 'I-Claim'], ['people.', 'I-Claim'], ['Everyones', 'B-Evidence'], ['vote', 'I-Evidence'], ['should', 'I-Evidence'], ['matter.', 'I-Evidence'], ['If', 'I-Evidence'], ['thers', 'I-Evidence'], ['50,000,000', 'I-Evidence'], ['for', 'I-Evidence'], ['runer', 'I-Evidence'], ['1', 'I-Evidence'], ['anf', 'I-Evidence'], ['60,000,000', 'I-Evidence'], ['for', 'I-Evidence'], ['runer', 'I-Evidence'], ['2', 'I-Evidence'], ['then', 'I-Evidence'], ['runer', 'I-Evidence'], ['2', 'I-Evidence'], ['should', 'I-Evidence'], ['win.', 'I-Evidence'], ['Majority', 'I-Evidence'], ['rules,', 'I-Evidence'], ['and', 'I-Evidence'], ['when', 'I-Evidence'], ['everyone', 'I-Evidence'], ['is', 'I-Evidence'], ['toght', 'I-Evidence'], ['that', 'I-Evidence'], ['since', 'I-Evidence'], ['the', 'I-Evidence'], ['day', 'I-Evidence'], ['theey', 'I-Evidence'], ['were', 'I-Evidence'], ['born', 'I-Evidence'], ['then', 'I-Evidence'], ['we', 'I-Evidence'], ['need', 'I-Evidence'], ['to', 'I-Evidence'], ['live', 'I-Evidence'], ['by', 'I-Evidence'], ['that', 'I-Evidence'], ['way.', 'I-Evidence'], [\"I'm\", 'I-Evidence'], ['not', 'I-Evidence'], ['saying', 'I-Evidence'], ['iif', 'I-Evidence'], ['over', 'I-Evidence'], ['half', 'I-Evidence'], ['of', 'I-Evidence'], ['the', 'I-Evidence'], ['US', 'I-Evidence'], ['says', 'I-Evidence'], ['the', 'I-Evidence'], ['everyone', 'I-Evidence'], ['has', 'I-Evidence'], ['to', 'I-Evidence'], ['atleast', 'I-Evidence'], ['have', 'I-Evidence'], ['one', 'I-Evidence'], ['dog', 'I-Evidence'], ['in', 'I-Evidence'], ['there', 'I-Evidence'], ['house', 'I-Evidence'], ['hold', 'I-Evidence'], ['we', 'I-Evidence'], ['should', 'I-Evidence'], ['have', 'I-Evidence'], ['to', 'I-Evidence'], ['do', 'I-Evidence'], ['!', 'I-Evidence'], [\"I'm\", 'I-Evidence'], ['talking', 'I-Evidence'], ['about', 'I-Evidence'], ['the', 'I-Evidence'], ['big', 'I-Evidence'], ['things', 'I-Evidence'], ['like', 'I-Evidence'], ['presidesy.', 'I-Evidence'], ['maybe', 'B-Claim'], ['if', 'I-Claim'], ['we', 'I-Claim'], ['got', 'I-Claim'], ['to', 'I-Claim'], ['chose', 'I-Claim'], ['our', 'I-Claim'], ['president', 'I-Claim'], ['then', 'I-Claim'], ['more', 'I-Claim'], ['rules', 'I-Claim'], ['will', 'I-Claim'], ['be', 'I-Claim'], ['followed.', 'I-Claim'], ['Whe', 'B-Evidence'], ['we', 'I-Evidence'], ['get', 'I-Evidence'], ['to', 'I-Evidence'], ['choose', 'I-Evidence'], ['our', 'I-Evidence'], ['presedent', 'I-Evidence'], ['then', 'I-Evidence'], ['we', 'I-Evidence'], ['will', 'I-Evidence'], ['respect', 'I-Evidence'], ['him.', 'I-Evidence'], ['When', 'I-Evidence'], ['you', 'I-Evidence'], ['respect', 'I-Evidence'], ['someone', 'I-Evidence'], ['then', 'I-Evidence'], ['you', 'I-Evidence'], ['follow', 'I-Evidence'], ['what', 'I-Evidence'], ['tthey', 'I-Evidence'], ['have', 'I-Evidence'], ['to', 'I-Evidence'], ['say', 'I-Evidence'], ['and', 'I-Evidence'], ['dont', 'I-Evidence'], ['give', 'I-Evidence'], ['them', 'I-Evidence'], ['crap', 'I-Evidence'], ['for', 'I-Evidence'], ['it.', 'I-Evidence'], ['when', 'I-Evidence'], ['someone', 'I-Evidence'], ['you', 'I-Evidence'], ['dont', 'I-Evidence'], ['like', 'I-Evidence'], ['is', 'I-Evidence'], ['presedent', 'I-Evidence'], ['why', 'I-Evidence'], ['should', 'I-Evidence'], ['you', 'I-Evidence'], ['repect', 'I-Evidence'], ['them?', 'I-Evidence'], ['we', 'I-Evidence'], ['sll', 'I-Evidence'], ['know', 'I-Evidence'], ['you', 'I-Evidence'], ['wouldnt', 'I-Evidence'], ['and', 'I-Evidence'], ['that', 'I-Evidence'], ['you', 'I-Evidence'], ['would', 'I-Evidence'], ['go', 'I-Evidence'], ['aginst', 'I-Evidence'], ['almost', 'I-Evidence'], ['everything', 'I-Evidence'], ['they', 'I-Evidence'], ['say', 'I-Evidence'], ['even', 'I-Evidence'], ['if', 'I-Evidence'], ['they', 'I-Evidence'], ['actully', 'I-Evidence'], ['do', 'I-Evidence'], ['say', 'I-Evidence'], ['somerting', 'I-Evidence'], ['you', 'I-Evidence'], ['agree', 'I-Evidence'], ['about', 'I-Evidence'], ['your', 'I-Evidence'], ['still', 'I-Evidence'], ['not', 'I-Evidence'], ['going', 'I-Evidence'], ['to', 'I-Evidence'], ['respect', 'I-Evidence'], ['them', 'I-Evidence'], ['be', 'I-Evidence'], ['cause', 'I-Evidence'], ['tou', 'I-Evidence'], ['dont', 'I-Evidence'], ['like', 'I-Evidence'], ['them.', 'I-Evidence'], ['Sometimes', 'B-Claim'], ['everyone', 'I-Claim'], ['can', 'I-Claim'], ['be', 'I-Claim'], ['stoborn.', 'I-Claim'], ['And', 'I-Claim'], ['when', 'I-Claim'], ['certin', 'I-Claim'], ['people', 'I-Claim'], ['dont', 'I-Claim'], ['get', 'I-Claim'], ['whet', 'I-Claim'], ['they', 'I-Claim'], ['want', 'I-Claim'], ['then', 'I-Claim'], ['they', 'I-Claim'], ['can', 'I-Claim'], ['do', 'I-Claim'], ['bad', 'I-Claim'], ['things.', 'I-Claim'], ['If', 'B-Evidence'], ['someone', 'I-Evidence'], ['wanted', 'I-Evidence'], ['obama', 'I-Evidence'], ['buit', 'I-Evidence'], ['we', 'I-Evidence'], ['got', 'I-Evidence'], ['ramny', 'I-Evidence'], ['when', 'I-Evidence'], ['evryone', 'I-Evidence'], ['voted', 'I-Evidence'], ['for', 'I-Evidence'], ['obama', 'I-Evidence'], ['then', 'I-Evidence'], ['people', 'I-Evidence'], ['are', 'I-Evidence'], ['going', 'I-Evidence'], ['to', 'I-Evidence'], ['be', 'I-Evidence'], ['very', 'I-Evidence'], ['mad', 'I-Evidence'], ['becuse', 'I-Evidence'], ['its', 'I-Evidence'], ['wrong', 'I-Evidence'], ['that', 'I-Evidence'], ['we', 'I-Evidence'], ['didnt', 'I-Evidence'], ['get', 'I-Evidence'], ['the', 'I-Evidence'], ['presendnt', 'I-Evidence'], ['that', 'I-Evidence'], ['we', 'I-Evidence'], ['wanted.', 'I-Evidence'], ['riets', 'I-Evidence'], ['could', 'I-Evidence'], ['stgart', 'I-Evidence'], ['and', 'I-Evidence'], ['armys', 'I-Evidence'], ['could', 'I-Evidence'], ['form', 'I-Evidence'], ['just', 'I-Evidence'], ['because', 'I-Evidence'], ['its', 'I-Evidence'], ['not', 'I-Evidence'], ['fair', 'I-Evidence'], ['how', 'I-Evidence'], ['the', 'I-Evidence'], ['president', 'I-Evidence'], ['is', 'I-Evidence'], ['choosen.', 'I-Evidence'], ['In', 'B-Concluding Statement'], ['the', 'I-Concluding Statement'], ['ruels', 'I-Concluding Statement'], ['of', 'I-Concluding Statement'], ['voteing', 'I-Concluding Statement'], ['there', 'I-Concluding Statement'], ['should', 'I-Concluding Statement'], ['be', 'I-Concluding Statement'], ['change.', 'I-Concluding Statement']]]\n"
     ]
    }
   ],
   "source": [
    "print(len(formatted_data))\n",
    "print(formatted_data[0:3])"
   ]
  },
  {
   "cell_type": "code",
   "execution_count": 67,
   "id": "b727414a",
   "metadata": {},
   "outputs": [
    {
     "name": "stdout",
     "output_type": "stream",
     "text": [
      "12474 in the training set, 1562 in the validation set and 1558 in the test set\n"
     ]
    }
   ],
   "source": [
    "num_data = len(formatted_data)\n",
    "#formatted_data = formatted_data[0:1000]\n",
    "train_percent = 0.8\n",
    "val_percent = 0.1\n",
    "test_percent = 0.1\n",
    "\n",
    "train = formatted_data[0:int(train_percent*num_data) - 1]\n",
    "val = formatted_data[int(train_percent*num_data - 1): -int(test_percent*num_data)+1]\n",
    "test = formatted_data[-int(test_percent*num_data)+1: ]\n",
    "\n",
    "print(len(train), \"in the training set,\", len(val), \"in the validation set and\", len(test), \"in the test set\")"
   ]
  },
  {
   "cell_type": "markdown",
   "id": "c193d67c",
   "metadata": {},
   "source": [
    "## From now on it's straight up HW2"
   ]
  },
  {
   "cell_type": "markdown",
   "id": "96cecd52",
   "metadata": {},
   "source": [
    "## Frequency count"
   ]
  },
  {
   "cell_type": "code",
   "execution_count": 70,
   "id": "65262615",
   "metadata": {},
   "outputs": [
    {
     "name": "stdout",
     "output_type": "stream",
     "text": [
      "Length of initial count: 7\n",
      "Max initial tag: B-Lead\tMax initial count: 6099\n",
      "Length of transition count: 79\n",
      "Max transition pair: ('I-Evidence', 'I-Evidence')\tMax transition count: 2762634\n",
      "Length of emission count: 140072\n",
      "Max emission pair: ('the', 'I-Evidence')\tMax emission count: 123338\n"
     ]
    }
   ],
   "source": [
    "hmm = HMMNER()\n",
    "hmm.get_counts(train)"
   ]
  },
  {
   "cell_type": "markdown",
   "id": "2762037e",
   "metadata": {},
   "source": [
    "## Get NER tags and vocabulary"
   ]
  },
  {
   "cell_type": "code",
   "execution_count": 71,
   "id": "63fbb137",
   "metadata": {},
   "outputs": [
    {
     "name": "stdout",
     "output_type": "stream",
     "text": [
      "Number of tags: 15\n",
      "NER tags: ['B-Claim', 'B-Concluding Statement', 'B-Counterclaim', 'B-Evidence', 'B-Lead', 'B-Position', 'B-Rebuttal', 'I-Claim', 'I-Concluding Statement', 'I-Counterclaim', 'I-Evidence', 'I-Lead', 'I-Position', 'I-Rebuttal', 'O']\n",
      "Index of B-ORG: 0\n",
      "Number of observations: 41565\n",
      "Last 10 observations: ['¨Its', '¨Seagoing', '¨The', '¨assistant', '¨driverless', '¨driverless¨', '¨twin¨', '¨twin¨,', 'Ã\\x82Â¨', 'â\\x80¢e']\n",
      "Index of UNK: 7646\n"
     ]
    }
   ],
   "source": [
    "hmm.get_lists()"
   ]
  },
  {
   "cell_type": "markdown",
   "id": "c47e80e7",
   "metadata": {},
   "source": [
    "## Get probabilities"
   ]
  },
  {
   "cell_type": "code",
   "execution_count": 72,
   "id": "d120fb0d",
   "metadata": {},
   "outputs": [
    {
     "name": "stdout",
     "output_type": "stream",
     "text": [
      "Shape of initial prob: (15,)\n",
      "0.9999999999999998\n",
      "Initial prob of B-ORG: 0.010729441908879814\n",
      "Shape of transition prob: (15, 15)\n",
      "[1. 1. 1. 1. 1. 1. 1. 1. 1. 1. 1. 1. 1. 1. 1.]\n",
      "Transition prob from B-ORG to I-ORG: 0.0027147518119100397\n",
      "Shape of emission prob: (15, 41565)\n",
      "[1. 1. 1. 1. 1. 1. 1. 1. 1. 1. 1. 1. 1. 1. 1.]\n",
      "Emission prob from B-ORG to 'European': 8.207687319943859e-06\n"
     ]
    }
   ],
   "source": [
    "initial_k, transition_k, emission_k = 1, 1, 0.5\n",
    "\n",
    "hmm.get_probabilities(initial_k, transition_k, emission_k)"
   ]
  },
  {
   "cell_type": "code",
   "execution_count": 75,
   "id": "52590d98",
   "metadata": {},
   "outputs": [
    {
     "name": "stdout",
     "output_type": "stream",
     "text": [
      "[['B-Lead', 'I-Position', 'I-Lead', 'I-Lead', 'I-Lead', 'I-Lead', 'I-Lead', 'I-Lead', 'I-Lead', 'I-Lead', 'O', 'O', 'O'], ['B-Lead', 'I-Lead', 'I-Lead', 'I-Lead', 'I-Lead', 'I-Lead', 'I-Lead', 'I-Lead', 'I-Lead', 'I-Lead', 'I-Lead']]\n"
     ]
    }
   ],
   "source": [
    "beam_width = 3\n",
    "sample_sentences = [\"The president of France , Emmanuel Macron , went to London yesterday .\".split(),\n",
    "                   \"George Washington was the first president of the United States .\".split()]\n",
    "results = hmm.predict_ner_all(sample_sentences, beam_width)\n",
    "print(results)"
   ]
  },
  {
   "cell_type": "code",
   "execution_count": 83,
   "id": "a5757c9c",
   "metadata": {},
   "outputs": [
    {
     "name": "stdout",
     "output_type": "stream",
     "text": [
      "Accuracy: 0.5492295128261881\n"
     ]
    }
   ],
   "source": [
    "accuracy = hmm.test(0.1, 0.1, 0.1, 8, test)\n",
    "print(f\"Accuracy: {accuracy}\")"
   ]
  },
  {
   "cell_type": "code",
   "execution_count": null,
   "id": "b63716c9",
   "metadata": {},
   "outputs": [],
   "source": []
  }
 ],
 "metadata": {
  "kernelspec": {
   "display_name": "Python 3 (ipykernel)",
   "language": "python",
   "name": "python3"
  },
  "language_info": {
   "codemirror_mode": {
    "name": "ipython",
    "version": 3
   },
   "file_extension": ".py",
   "mimetype": "text/x-python",
   "name": "python",
   "nbconvert_exporter": "python",
   "pygments_lexer": "ipython3",
   "version": "3.9.15"
  }
 },
 "nbformat": 4,
 "nbformat_minor": 5
}
